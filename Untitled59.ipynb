{
 "cells": [
  {
   "cell_type": "code",
   "execution_count": 7,
   "id": "c995e6ff",
   "metadata": {},
   "outputs": [
    {
     "name": "stdout",
     "output_type": "stream",
     "text": [
      "2500\n",
      "2000\n",
      "100.0\n"
     ]
    }
   ],
   "source": [
    "class Account:\n",
    "    def __init__(self,title=None,balance=0):\n",
    "        self.title=title\n",
    "        self.balance=balance\n",
    "        \n",
    "    def withdrawal(self,amount):\n",
    "        self.balance-=amount\n",
    "    def deposit(self,amount):\n",
    "        self.balance+=amount\n",
    "    def getbalance(self):\n",
    "        return self.balance\n",
    "class SavingsAccount(Account):\n",
    "    def __init__(self,title=None,balance=0,interestrate=0):\n",
    "        super().__init__(title,balance)\n",
    "        self.interestrate=interestrate\n",
    "    def interestAmount(self):\n",
    "        return (self.balance*self.interestrate)/100\n",
    "    \n",
    "demo1 = SavingsAccount(\"Ashish\",2000,5)\n",
    "demo1.deposit(500)\n",
    "print(demo1.getbalance())\n",
    "\n",
    "demo1.withdrawal(500)\n",
    "print(demo1.getbalance())\n",
    "\n",
    "interest_amount = demo1.interestAmount()\n",
    "print(interest_amount)\n",
    "    "
   ]
  },
  {
   "cell_type": "code",
   "execution_count": null,
   "id": "0f1517b2",
   "metadata": {},
   "outputs": [],
   "source": []
  }
 ],
 "metadata": {
  "kernelspec": {
   "display_name": "Python 3 (ipykernel)",
   "language": "python",
   "name": "python3"
  },
  "language_info": {
   "codemirror_mode": {
    "name": "ipython",
    "version": 3
   },
   "file_extension": ".py",
   "mimetype": "text/x-python",
   "name": "python",
   "nbconvert_exporter": "python",
   "pygments_lexer": "ipython3",
   "version": "3.10.9"
  }
 },
 "nbformat": 4,
 "nbformat_minor": 5
}
